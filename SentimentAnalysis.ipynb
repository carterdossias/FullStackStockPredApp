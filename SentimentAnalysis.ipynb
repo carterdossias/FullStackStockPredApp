{
 "cells": [
  {
   "cell_type": "markdown",
   "metadata": {},
   "source": [
    "## Sentiment analysis\n",
    "- Currently this does not work very well \n",
    "- Seems like the correct analysis is applied ~50% of the time"
   ]
  },
  {
   "cell_type": "code",
   "execution_count": 4,
   "metadata": {},
   "outputs": [
    {
     "name": "stderr",
     "output_type": "stream",
     "text": [
      "Device set to use cpu\n"
     ]
    },
    {
     "name": "stdout",
     "output_type": "stream",
     "text": [
      "Sentiment scores and labels updated successfully.\n"
     ]
    }
   ],
   "source": [
    "import mysql.connector\n",
    "from transformers import pipeline\n",
    "import numpy as np\n",
    "from credentials import ipCred, usernameCred, passwordCred, databaseCred\n",
    "\n",
    "# Use your fine-tuned model (change paths as needed)\n",
    "classifier = pipeline(\n",
    "    task=\"text-classification\", \n",
    "    model=\"./finbert-finetuned\", \n",
    "    tokenizer=\"./finbert-finetuned\", \n",
    "    device=-1\n",
    ")\n",
    "\n",
    "ticker = 'AAPL'\n",
    "db_config = {\n",
    "    'host': ipCred,\n",
    "    'user': usernameCred,\n",
    "    'password': passwordCred,\n",
    "    'database': databaseCred\n",
    "}\n",
    "\n",
    "conn = mysql.connector.connect(**db_config)\n",
    "\n",
    "# --- Cursor A: Fetch rows that need sentiment scores ---\n",
    "cursor_fetch = conn.cursor()\n",
    "fetch_query = f\"\"\"\n",
    "    SELECT news_id, summary\n",
    "    FROM {ticker}_news\n",
    "    WHERE sentiment IS NULL\n",
    "    LIMIT 10000;\n",
    "\"\"\"\n",
    "cursor_fetch.execute(fetch_query)\n",
    "rows = cursor_fetch.fetchall()\n",
    "cursor_fetch.close()  # Close fetch cursor\n",
    "\n",
    "if not rows:\n",
    "    print(\"No rows to update.\")\n",
    "    conn.close()\n",
    "    exit()\n",
    "\n",
    "# Filter out rows with empty summaries and unzip IDs and summaries\n",
    "id_summary_pairs = [(news_id, summary) for news_id, summary in rows if summary]\n",
    "if not id_summary_pairs:\n",
    "    print(\"No valid summaries found.\")\n",
    "    conn.close()\n",
    "    exit()\n",
    "\n",
    "news_ids, summaries = zip(*id_summary_pairs)\n",
    "\n",
    "# Process summaries in batches\n",
    "batch_size = 32\n",
    "results = []\n",
    "for i in range(0, len(summaries), batch_size):\n",
    "    batch = list(summaries[i:i+batch_size])\n",
    "    batch_results = classifier(batch, truncation=True)\n",
    "    results.extend(batch_results)\n",
    "\n",
    "# --- Cursor B: Update rows with both numeric and label sentiment ---\n",
    "cursor_update = conn.cursor()\n",
    "update_query = f\"\"\"\n",
    "    UPDATE {ticker}_news\n",
    "    SET sentiment = %s, sentiment_label = %s\n",
    "    WHERE news_id = %s\n",
    "\"\"\"\n",
    "\n",
    "# Process each result: store numeric score and its corresponding label.\n",
    "for news_id, result in zip(news_ids, results):\n",
    "    r = result[0] if isinstance(result, list) else result\n",
    "    label = r['label'].upper()  # e.g., \"POSITIVE\", \"NEGATIVE\", \"NEUTRAL\"\n",
    "    score = r['score']\n",
    "    \n",
    "    # Compute bipolar sentiment for the numeric column:\n",
    "    if label == \"POSITIVE\":\n",
    "        sentiment_score = score\n",
    "    elif label == \"NEGATIVE\":\n",
    "        sentiment_score = -score\n",
    "    else:\n",
    "        sentiment_score = 0.0\n",
    "\n",
    "    # Update both columns: numeric sentiment and the label string.\n",
    "    cursor_update.execute(update_query, (sentiment_score, label, news_id))\n",
    "\n",
    "conn.commit()\n",
    "cursor_update.close()\n",
    "conn.close()\n",
    "\n",
    "print(\"Sentiment scores and labels updated successfully.\")"
   ]
  },
  {
   "cell_type": "markdown",
   "metadata": {},
   "source": [
    "## FINE TUNING FINBERT\n",
    "# Using https://arc.net/l/quote/zbvxjftu this data set"
   ]
  },
  {
   "cell_type": "markdown",
   "metadata": {},
   "source": [
    "### note: please do not run this if you do not have a beefy computer with a GPU you will cook your machine (actually) (genuinely)(this is warning)"
   ]
  },
  {
   "cell_type": "code",
   "execution_count": 1,
   "metadata": {},
   "outputs": [
    {
     "data": {
      "application/vnd.jupyter.widget-view+json": {
       "model_id": "a2a9b14300d345c28b6c8fcd206cf800",
       "version_major": 2,
       "version_minor": 0
      },
      "text/plain": [
       "Map:   0%|          | 0/4673 [00:00<?, ? examples/s]"
      ]
     },
     "metadata": {},
     "output_type": "display_data"
    },
    {
     "data": {
      "application/vnd.jupyter.widget-view+json": {
       "model_id": "e370bf80c4664c1486a8681804c5ea98",
       "version_major": 2,
       "version_minor": 0
      },
      "text/plain": [
       "Map:   0%|          | 0/1169 [00:00<?, ? examples/s]"
      ]
     },
     "metadata": {},
     "output_type": "display_data"
    },
    {
     "data": {
      "application/vnd.jupyter.widget-view+json": {
       "model_id": "0b1a2df5aebb4e4dbb460d1509795bbf",
       "version_major": 2,
       "version_minor": 0
      },
      "text/plain": [
       "Map:   0%|          | 0/4673 [00:00<?, ? examples/s]"
      ]
     },
     "metadata": {},
     "output_type": "display_data"
    },
    {
     "data": {
      "application/vnd.jupyter.widget-view+json": {
       "model_id": "c1e282e6023d47eead4f7f13032ce5bf",
       "version_major": 2,
       "version_minor": 0
      },
      "text/plain": [
       "Map:   0%|          | 0/1169 [00:00<?, ? examples/s]"
      ]
     },
     "metadata": {},
     "output_type": "display_data"
    },
    {
     "data": {
      "application/vnd.jupyter.widget-view+json": {
       "model_id": "30769d4d5eae4f769b99b4153e9d5396",
       "version_major": 2,
       "version_minor": 0
      },
      "text/plain": [
       "Map:   0%|          | 0/4673 [00:00<?, ? examples/s]"
      ]
     },
     "metadata": {},
     "output_type": "display_data"
    },
    {
     "data": {
      "application/vnd.jupyter.widget-view+json": {
       "model_id": "5bd07fd922a841e4bb9773d25df004e7",
       "version_major": 2,
       "version_minor": 0
      },
      "text/plain": [
       "Map:   0%|          | 0/1169 [00:00<?, ? examples/s]"
      ]
     },
     "metadata": {},
     "output_type": "display_data"
    },
    {
     "name": "stderr",
     "output_type": "stream",
     "text": [
      "/Volumes/ExternalMacDrive/Apps/anaconda3/envs/Stocks/lib/python3.11/site-packages/transformers/training_args.py:1594: FutureWarning: `evaluation_strategy` is deprecated and will be removed in version 4.46 of 🤗 Transformers. Use `eval_strategy` instead\n",
      "  warnings.warn(\n",
      "/var/folders/v1/gw8x5_gj64gfk28hkxlbrzr00000gn/T/ipykernel_721/2218920685.py:66: FutureWarning: `tokenizer` is deprecated and will be removed in version 5.0.0 for `Trainer.__init__`. Use `processing_class` instead.\n",
      "  trainer = Trainer(\n"
     ]
    },
    {
     "data": {
      "text/html": [
       "\n",
       "    <div>\n",
       "      \n",
       "      <progress value='879' max='879' style='width:300px; height:20px; vertical-align: middle;'></progress>\n",
       "      [879/879 22:46, Epoch 3/3]\n",
       "    </div>\n",
       "    <table border=\"1\" class=\"dataframe\">\n",
       "  <thead>\n",
       " <tr style=\"text-align: left;\">\n",
       "      <th>Epoch</th>\n",
       "      <th>Training Loss</th>\n",
       "      <th>Validation Loss</th>\n",
       "    </tr>\n",
       "  </thead>\n",
       "  <tbody>\n",
       "    <tr>\n",
       "      <td>1</td>\n",
       "      <td>0.417700</td>\n",
       "      <td>0.414622</td>\n",
       "    </tr>\n",
       "    <tr>\n",
       "      <td>2</td>\n",
       "      <td>0.277700</td>\n",
       "      <td>0.406125</td>\n",
       "    </tr>\n",
       "    <tr>\n",
       "      <td>3</td>\n",
       "      <td>0.198100</td>\n",
       "      <td>0.431948</td>\n",
       "    </tr>\n",
       "  </tbody>\n",
       "</table><p>"
      ],
      "text/plain": [
       "<IPython.core.display.HTML object>"
      ]
     },
     "metadata": {},
     "output_type": "display_data"
    },
    {
     "data": {
      "text/html": [
       "\n",
       "    <div>\n",
       "      \n",
       "      <progress value='74' max='74' style='width:300px; height:20px; vertical-align: middle;'></progress>\n",
       "      [74/74 00:30]\n",
       "    </div>\n",
       "    "
      ],
      "text/plain": [
       "<IPython.core.display.HTML object>"
      ]
     },
     "metadata": {},
     "output_type": "display_data"
    },
    {
     "name": "stdout",
     "output_type": "stream",
     "text": [
      "{'eval_loss': 0.43194809556007385, 'eval_runtime': 30.2369, 'eval_samples_per_second': 38.661, 'eval_steps_per_second': 2.447, 'epoch': 3.0}\n"
     ]
    }
   ],
   "source": [
    "import pandas as pd\n",
    "from datasets import Dataset\n",
    "from transformers import AutoTokenizer, AutoModelForSequenceClassification, TrainingArguments, Trainer\n",
    "\n",
    "# 1. Read CSV via pandas\n",
    "df = pd.read_csv(\"labeledNews.csv\")  # columns: \"Sentence\", \"Sentiment\"\n",
    "\n",
    "# 2. Convert to Dataset\n",
    "dataset = Dataset.from_pandas(df)\n",
    "\n",
    "# 3. (Optional) Split into train/val if needed\n",
    "# e.g., random 80/20\n",
    "train_test = dataset.train_test_split(test_size=0.2)\n",
    "dataset_train = train_test[\"train\"]\n",
    "dataset_val = train_test[\"test\"]\n",
    "\n",
    "# 4. Clean / map\n",
    "def cleanData(example):\n",
    "    example[\"text\"] = example[\"Sentence\"]\n",
    "    return example\n",
    "\n",
    "dataset_train = dataset_train.map(cleanData)\n",
    "dataset_val = dataset_val.map(cleanData)\n",
    "\n",
    "labelToID = {\"negative\": 0, \"neutral\": 1, \"positive\": 2}\n",
    "\n",
    "def encode_labels(example):\n",
    "    example[\"label\"] = labelToID[example[\"Sentiment\"].lower()]\n",
    "    return example\n",
    "\n",
    "dataset_train = dataset_train.map(encode_labels)\n",
    "dataset_val = dataset_val.map(encode_labels)\n",
    "\n",
    "# 5. Tokenize\n",
    "model_checkpoint = \"ProsusAI/finbert\"\n",
    "tokenizer = AutoTokenizer.from_pretrained(model_checkpoint)\n",
    "\n",
    "def tokenize_function(example):\n",
    "    return tokenizer(example[\"text\"], padding=\"max_length\", truncation=True, max_length=512)\n",
    "\n",
    "dataset_train = dataset_train.map(tokenize_function, batched=True)\n",
    "dataset_val = dataset_val.map(tokenize_function, batched=True)\n",
    "\n",
    "# 6. Load model\n",
    "model = AutoModelForSequenceClassification.from_pretrained(\n",
    "    model_checkpoint,\n",
    "    num_labels=3,\n",
    "    id2label={0: \"negative\", 1: \"neutral\", 2: \"positive\"},\n",
    "    label2id={\"negative\": 0, \"neutral\": 1, \"positive\": 2},\n",
    "    problem_type=\"single_label_classification\"\n",
    ")\n",
    "\n",
    "# 7. Set up training args & Trainer\n",
    "training_args = TrainingArguments(\n",
    "    output_dir=\"./finbert-finetuned\",\n",
    "    evaluation_strategy=\"epoch\",\n",
    "    learning_rate=2e-5, #learning rate higher means speeding up the training, but may overconverge (overshoot) where you want to be\n",
    "    per_device_train_batch_size=16,\n",
    "    per_device_eval_batch_size=16,\n",
    "    num_train_epochs=3,\n",
    "    weight_decay=0.01, # does not let the model overfit the data\n",
    "    logging_dir='./logs',\n",
    "    logging_steps=50,\n",
    ")\n",
    "\n",
    "trainer = Trainer(\n",
    "    model=model,\n",
    "    args=training_args,\n",
    "    train_dataset=dataset_train,\n",
    "    eval_dataset=dataset_val,\n",
    "    tokenizer=tokenizer,\n",
    ")\n",
    "\n",
    "# 8. Train, save, evaluate\n",
    "trainer.train()\n",
    "model.save_pretrained(\"./finbert-finetuned\")\n",
    "tokenizer.save_pretrained(\"./finbert-finetuned\")\n",
    "\n",
    "results = trainer.evaluate()\n",
    "print(results)"
   ]
  },
  {
   "cell_type": "code",
   "execution_count": null,
   "metadata": {},
   "outputs": [],
   "source": []
  }
 ],
 "metadata": {
  "kernelspec": {
   "display_name": "Stocks",
   "language": "python",
   "name": "python3"
  },
  "language_info": {
   "codemirror_mode": {
    "name": "ipython",
    "version": 3
   },
   "file_extension": ".py",
   "mimetype": "text/x-python",
   "name": "python",
   "nbconvert_exporter": "python",
   "pygments_lexer": "ipython3",
   "version": "3.11.5"
  }
 },
 "nbformat": 4,
 "nbformat_minor": 2
}
