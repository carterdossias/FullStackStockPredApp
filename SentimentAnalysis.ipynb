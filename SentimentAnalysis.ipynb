{
 "cells": [
  {
   "cell_type": "markdown",
   "metadata": {},
   "source": [
    "## Sentiment analysis"
   ]
  },
  {
   "cell_type": "code",
   "execution_count": 25,
   "metadata": {},
   "outputs": [
    {
     "name": "stderr",
     "output_type": "stream",
     "text": [
      "All model checkpoint layers were used when initializing TFBertForSequenceClassification.\n",
      "\n",
      "Some layers of TFBertForSequenceClassification were not initialized from the model checkpoint at ProsusAI/finbert and are newly initialized: ['classifier']\n",
      "You should probably TRAIN this model on a down-stream task to be able to use it for predictions and inference.\n"
     ]
    },
    {
     "name": "stdout",
     "output_type": "stream",
     "text": [
      "Sentiment scores updated successfully.\n"
     ]
    }
   ],
   "source": [
    "import mysql.connector\n",
    "from transformers import pipeline\n",
    "import numpy as np\n",
    "from credentials import ipCred, usernameCred, passwordCred, databaseCred\n",
    "\n",
    "# Use GPU if available (set device=0) or CPU with device=-1.\n",
    "# Adjust this parameter based on your environment.\n",
    "classifier = pipeline(\"sentiment-analysis\", model=\"ProsusAI/finbert\", device=-1)\n",
    "\n",
    "ticker = 'INTC'\n",
    "db_config = {\n",
    "    'host': ipCred,\n",
    "    'user': usernameCred,\n",
    "    'password': passwordCred,\n",
    "    'database': databaseCred\n",
    "}\n",
    "\n",
    "conn = mysql.connector.connect(**db_config)\n",
    "\n",
    "# --- Cursor A: Fetch rows that need sentiment scores ---\n",
    "cursor_fetch = conn.cursor()\n",
    "fetch_query = f\"\"\"\n",
    "    SELECT news_id, summary\n",
    "    FROM {ticker}_news\n",
    "    WHERE sentiment IS NULL\n",
    "    LIMIT 10000;\n",
    "\"\"\"\n",
    "cursor_fetch.execute(fetch_query)\n",
    "rows = cursor_fetch.fetchall()\n",
    "cursor_fetch.close()  # Close fetch cursor\n",
    "\n",
    "# If no rows, exit early\n",
    "if not rows:\n",
    "    print(\"No rows to update.\")\n",
    "    conn.close()\n",
    "    exit()\n",
    "\n",
    "# Separate out the IDs and summaries (filter out any empty summaries)\n",
    "id_summary_pairs = [(news_id, summary) for news_id, summary in rows if summary]\n",
    "if not id_summary_pairs:\n",
    "    print(\"No valid summaries found.\")\n",
    "    conn.close()\n",
    "    exit()\n",
    "\n",
    "# Unzip the list into separate lists\n",
    "news_ids, summaries = zip(*id_summary_pairs)\n",
    "\n",
    "# Process summaries in batch for efficiency.\n",
    "# You might adjust the batch size if you have a lot of data.\n",
    "batch_size = 32\n",
    "results = []\n",
    "for i in range(0, len(summaries), batch_size):\n",
    "    batch = list(summaries[i:i+batch_size])\n",
    "    # The pipeline can process a list of strings.\n",
    "    batch_results = classifier(batch, truncation=True)\n",
    "    results.extend(batch_results)\n",
    "\n",
    "# --- Cursor B: Update rows with sentiment scores ---\n",
    "cursor_update = conn.cursor()\n",
    "update_query = f\"\"\"\n",
    "    UPDATE {ticker}_news\n",
    "    SET sentiment = %s\n",
    "    WHERE news_id = %s\n",
    "\"\"\"\n",
    "\n",
    "# FinBERT returns a dict per input.\n",
    "# For each result, compute bipolar sentiment: positive minus negative.\n",
    "for news_id, result in zip(news_ids, results):\n",
    "    # The classifier might return a list of results for each input;\n",
    "    # FinBERT usually returns one result per input, so we take the first.\n",
    "    r = result[0] if isinstance(result, list) else result\n",
    "    label = r['label'].upper()\n",
    "    score = r['score']\n",
    "    # Compute bipolar sentiment: if positive, score is positive; if negative, negative.\n",
    "    # For neutral, we assume a score of 0.\n",
    "    if label == 'POSITIVE':\n",
    "        sentiment_score = score\n",
    "    elif label == 'NEGATIVE':\n",
    "        sentiment_score = -score\n",
    "    else:\n",
    "        sentiment_score = 0.0\n",
    "\n",
    "    cursor_update.execute(update_query, (sentiment_score, news_id))\n",
    "\n",
    "conn.commit()\n",
    "cursor_update.close()\n",
    "conn.close()\n",
    "\n",
    "print(\"Sentiment scores updated successfully.\")"
   ]
  }
 ],
 "metadata": {
  "kernelspec": {
   "display_name": "Stocks",
   "language": "python",
   "name": "python3"
  },
  "language_info": {
   "codemirror_mode": {
    "name": "ipython",
    "version": 3
   },
   "file_extension": ".py",
   "mimetype": "text/x-python",
   "name": "python",
   "nbconvert_exporter": "python",
   "pygments_lexer": "ipython3",
   "version": "3.11.5"
  }
 },
 "nbformat": 4,
 "nbformat_minor": 2
}
